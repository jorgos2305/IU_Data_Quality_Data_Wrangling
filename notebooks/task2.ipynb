{
 "cells": [
  {
   "cell_type": "markdown",
   "id": "c1099f61-e70f-4939-83f7-af9cc0a3fed8",
   "metadata": {},
   "source": [
    "# Data Quality and Data Wrangling \n",
    "## Course Code: DLBDSDQDW01"
   ]
  },
  {
   "cell_type": "markdown",
   "id": "e3bc8316-7198-415b-aeea-78849b4f7e9a",
   "metadata": {},
   "source": [
    "## Task 2: Scrape the web"
   ]
  },
  {
   "cell_type": "markdown",
   "id": "e7a41436-7851-4d39-929f-fa79c948859c",
   "metadata": {},
   "source": [
    "This notebook describes the implementation of Task 2 of the Data Quality and Data Wrangling course (DLBDSDQDW01), it contains the code use for experimentation and the creation of the visualization according to the requirements in the task description."
   ]
  },
  {
   "cell_type": "markdown",
   "id": "c36800db-9cb6-4bb1-925d-6d15b136cc99",
   "metadata": {},
   "source": [
    "### Data sources\n",
    "The data was collected from the following sources:\n",
    "\n",
    "1. [OpenWeather](https://openweathermap.org/api/one-call-3#concept): for weather data such as temperature, humidity, pressure, etc.\n",
    "2. USGS Earthquake data: https://earthquake.usgs.gov/fdsnws/event/1/\n",
    "3. GeoBoundries\n",
    "4. XXX"
   ]
  },
  {
   "cell_type": "code",
   "execution_count": null,
   "id": "4eb07882-e3b7-48da-ad2a-226265cca545",
   "metadata": {},
   "outputs": [],
   "source": [
    "# used packages\n",
    "import requests\n",
    "import pandas as pd\n",
    "import geopandas as gpd\n",
    "import matplotlib.pyplot as plt\n",
    "import seaborn as sns\n",
    "import h5py\n",
    "import re\n",
    "import time\n",
    "import folium\n",
    "from dotenv import load_dotenv\n",
    "from pathlib import Path\n",
    "from datetime import date, datetime, timezone, timedelta\n",
    "from zoneinfo import ZoneInfo\n",
    "from shapely.geometry import Point"
   ]
  },
  {
   "cell_type": "markdown",
   "id": "b6ff84c6-03ad-45f4-b768-9dbd85c567b6",
   "metadata": {},
   "source": [
    "# Define location for time series"
   ]
  },
  {
   "cell_type": "code",
   "execution_count": null,
   "id": "15188c08-c23e-4860-b65b-c5f9fc6ef9ed",
   "metadata": {},
   "outputs": [],
   "source": [
    "# Cities in Germany\n",
    "cities = [\"Berlin\" , \"Munich\", \"Hamburg\", \"Baden-Baden\"]"
   ]
  },
  {
   "cell_type": "markdown",
   "id": "b6d61bbd-55c4-488a-a4a3-882bb8bc362a",
   "metadata": {},
   "source": [
    "# Weather data\n",
    "\n",
    "Since the API provide data only for one timestamp and not the the summary for the whole day, the request will be run every 2 hours, to get 12 readings per day."
   ]
  },
  {
   "cell_type": "code",
   "execution_count": null,
   "id": "8a8871f0-c12a-408e-aa3a-b45b833f0cdf",
   "metadata": {},
   "outputs": [],
   "source": []
  },
  {
   "cell_type": "code",
   "execution_count": null,
   "id": "9944ed6e-6bdd-4dfb-86d3-fbe2fb8269a0",
   "metadata": {},
   "outputs": [],
   "source": [
    "def fetch(url, headers:dict=None, params:dict=None):\n",
    "    response = requests.get(url, params=params)\n",
    "    response.raise_for_status()\n",
    "    return response.json()"
   ]
  },
  {
   "cell_type": "code",
   "execution_count": null,
   "id": "bc264940-bd63-4281-8738-b20c891416eb",
   "metadata": {},
   "outputs": [],
   "source": [
    "# geocoding endpoint - to get coordinates of the cities\n",
    "url_geocoding = \"http://api.openweathermap.org/geo/1.0/direct?\"\n",
    "params_geocoding = {\"q\":None, \"limit\":1, \"appid\" : OPENWEATHER_API_KEY}"
   ]
  },
  {
   "cell_type": "code",
   "execution_count": null,
   "id": "27aa58bf-fae0-4b87-8b79-b955dfd3aa9b",
   "metadata": {},
   "outputs": [],
   "source": [
    "responses_cities = []\n",
    "for city in cities:\n",
    "    params_geocoding[\"q\"] = city\n",
    "    response = fetch(url_geocoding, params=params_geocoding)\n",
    "    responses_cities.append(response)\n",
    "    time.sleep(1)"
   ]
  },
  {
   "cell_type": "code",
   "execution_count": null,
   "id": "e2a01265-ef2e-4cce-b3bf-8c1e6090dc4d",
   "metadata": {
    "scrolled": true
   },
   "outputs": [],
   "source": [
    "responses_cities"
   ]
  },
  {
   "cell_type": "code",
   "execution_count": null,
   "id": "ffea5f4e-ae1c-4be9-9bbc-09d5a093983e",
   "metadata": {},
   "outputs": [],
   "source": [
    "city_coordinates = {\"city\" : [], \"country\" : [], \"lat\" : [], \"lon\" : []}\n",
    "for response_list in responses_cities: # a response list is the response of the API, a list containing a dictionary\n",
    "    for response in response_list: # response is the dictionary containing the information of the countries\n",
    "        city_coordinates[\"city\"].append(response[\"name\"])\n",
    "        city_coordinates[\"lat\"].append(response[\"lat\"]) # Y\n",
    "        city_coordinates[\"lon\"].append(response[\"lon\"]) # X\n",
    "        city_coordinates[\"country\"].append(response[\"country\"])\n",
    "df_geolocations = pd.DataFrame(city_coordinates)\n",
    "df_geolocations.to_csv(\"geocoding_openweather.csv\", index=False)"
   ]
  },
  {
   "cell_type": "code",
   "execution_count": null,
   "id": "002ff836-ba80-49b0-bb7d-409c684b5849",
   "metadata": {},
   "outputs": [],
   "source": [
    "df_geolocations[\"geometry\"] = df_geolocations.apply(lambda row: Point(row[\"lon\"], row[\"lat\"]), axis=1)\n",
    "df_geolocations = gpd.GeoDataFrame(df_geolocations, geometry=\"geometry\", crs=\"EPSG:4326\")\n",
    "df_geolocations"
   ]
  },
  {
   "cell_type": "code",
   "execution_count": null,
   "id": "2dd83a6a-6257-4a04-9a50-8dd31bd09fbb",
   "metadata": {},
   "outputs": [],
   "source": [
    "df_geolocations.explore()"
   ]
  },
  {
   "cell_type": "code",
   "execution_count": null,
   "id": "dae7ea29-1b29-44f5-929f-61af75e177ad",
   "metadata": {},
   "outputs": [],
   "source": [
    "# weather endpoint - to get weather of the locations\n",
    "url_weather = \"https://pro.openweathermap.org/data/2.5/weather\""
   ]
  },
  {
   "cell_type": "code",
   "execution_count": null,
   "id": "61fd56c4-a908-491f-845e-7da8ab86ad94",
   "metadata": {},
   "outputs": [],
   "source": [
    "berlin = ZoneInfo(\"Europe/Berlin\")"
   ]
  },
  {
   "cell_type": "code",
   "execution_count": null,
   "id": "0c871595-6b91-43ea-ab70-d6f48c95bd49",
   "metadata": {},
   "outputs": [],
   "source": [
    "today = datetime.now(berlin).replace(microsecond=0)\n",
    "today = today.isoformat()\n",
    "\n",
    "responses_weather = []\n",
    "#today = datetime.strftime(date.today(), \"%Y-%m-%d\")\n",
    "for nrow, record in df_geolocations.iterrows():\n",
    "    lon = record[\"lon\"]\n",
    "    lat = record[\"lat\"]\n",
    "    params = {\"units\":\"metric\",\n",
    "              \"lon\" : lon,\n",
    "              \"lat\" : lat,\n",
    "              \"date\" : today,\n",
    "              \"appid\" : OPENWEATHER_API_KEY}\n",
    "    response = requests.get(url_weather, params)\n",
    "    response.raise_for_status()\n",
    "    responses_weather.append(response)\n",
    "    time.sleep(1)"
   ]
  },
  {
   "cell_type": "code",
   "execution_count": null,
   "id": "a55bf07c-3632-409f-a856-4848cf9cacef",
   "metadata": {},
   "outputs": [],
   "source": [
    "responses_weather[0].json()"
   ]
  },
  {
   "cell_type": "code",
   "execution_count": null,
   "id": "88283f61-f779-429b-9352-dbad0b619133",
   "metadata": {},
   "outputs": [],
   "source": [
    "weather = {\"name\" : [], # city name - it might not match no automatic geocoding by the API\n",
    "           \"temperature\" : [], # Temperature\n",
    "           \"temperature_max\" : [], # Max temp at the moment\n",
    "           \"temperature_min\" : [], # Min temp at the moment\n",
    "           \"feels_like\" : [], # Human perception of the weather\n",
    "           \"humidity\":[], #\n",
    "           \"wind_speed\":[], # in m/\n",
    "           \"wind_direction\" : [],\n",
    "           \"description\":[],\n",
    "           \"timestamp\":[]}\n",
    "\n",
    "for response in responses_weather:\n",
    "    weather_data = response.json()\n",
    "    weather[\"name\"].append(weather_data[\"name\"])\n",
    "    weather[\"temperature\"].append(weather_data[\"main\"][\"temp\"])\n",
    "    weather[\"temperature_max\"].append(weather_data[\"main\"][\"temp_max\"])\n",
    "    weather[\"temperature_min\"].append(weather_data[\"main\"][\"temp_min\"])\n",
    "    weather[\"feels_like\"].append(weather_data[\"main\"][\"feels_like\"])\n",
    "    weather[\"humidity\"].append(weather_data[\"main\"][\"humidity\"])\n",
    "    weather[\"wind_speed\"].append(weather_data[\"wind\"][\"speed\"])\n",
    "    weather[\"wind_direction\"].append(weather_data[\"wind\"][\"deg\"])\n",
    "    weather[\"description\"].append(weather_data[\"weather\"][0][\"description\"])\n",
    "    weather[\"timestamp\"].append(datetime.fromtimestamp(weather_data[\"dt\"]))\n",
    "    \n",
    "df_weather = pd.DataFrame(weather)\n",
    "df_weather"
   ]
  },
  {
   "cell_type": "code",
   "execution_count": null,
   "id": "2eebd147-065d-4655-ab9f-a484fc6c82fc",
   "metadata": {},
   "outputs": [],
   "source": [
    "# commbine into one dataframe for the weather data\n",
    "df_weather = pd.concat([df_geolocations, df_weather], axis=1)\n",
    "df_weather"
   ]
  },
  {
   "cell_type": "code",
   "execution_count": null,
   "id": "b10edd32-f23e-4934-861f-d123a4b9f24d",
   "metadata": {},
   "outputs": [],
   "source": [
    "# if weather data exists load it, if not\n",
    "if Path(\"weather_data.csv\").exists():\n",
    "    print(\"loading latest data\")\n",
    "    history_df = pd.read_csv(\"weather_data.csv\")\n",
    "    # this dataframe is the final weather data. Store in staging area to combine later with further data\n",
    "    df_weather = pd.concat([history_df, df_weather], axis=0).sort_values(by=[\"city\", \"timestamp\"], ascending=False)\n",
    "    df_weather.to_csv(\"weather_data.csv\", index=False)\n",
    "else:\n",
    "    print(\"weather_data.csv does not exist. Latest data will be stored\")\n",
    "    # place latest data in staging area"
   ]
  },
  {
   "cell_type": "markdown",
   "id": "53b0e55c-bb37-4664-8392-0718a2569cc2",
   "metadata": {},
   "source": [
    "# Air quality"
   ]
  },
  {
   "cell_type": "code",
   "execution_count": null,
   "id": "f80f8b15-06b2-4327-a669-f826338d4ff6",
   "metadata": {},
   "outputs": [],
   "source": [
    "headers = {\"X-API-Key\":OPENAQ_API_KEY}"
   ]
  },
  {
   "cell_type": "code",
   "execution_count": null,
   "id": "cae58917-9a67-415c-bc6d-7831c4b7797a",
   "metadata": {},
   "outputs": [],
   "source": [
    "# Step 1: Find nearby locations\n",
    "resp_loc = requests.get(\n",
    "    \"https://api.openaq.org/v3/locations\",\n",
    "    headers=headers,\n",
    "    params={\"coordinates\": \"52.5200,13.4050\", \"radius\": 5000, \"limit\": 5}\n",
    ")"
   ]
  },
  {
   "cell_type": "code",
   "execution_count": null,
   "id": "4d5ddaca-83cb-41c6-a2c6-810ecb21b3c6",
   "metadata": {},
   "outputs": [],
   "source": [
    "locations = resp_loc.json()"
   ]
  },
  {
   "cell_type": "code",
   "execution_count": null,
   "id": "7b464c91-a87e-4092-8c58-2f24f2d161d9",
   "metadata": {},
   "outputs": [],
   "source": [
    "locations.keys()"
   ]
  },
  {
   "cell_type": "code",
   "execution_count": null,
   "id": "194169f5-3270-4eaa-b4e0-cff3422c274d",
   "metadata": {},
   "outputs": [],
   "source": [
    "locations[\"results\"][0]"
   ]
  },
  {
   "cell_type": "code",
   "execution_count": null,
   "id": "10701d02-040f-4794-8b46-821061c209b3",
   "metadata": {},
   "outputs": [],
   "source": [
    "locations[\"results\"][0][\"sensors\"][0]"
   ]
  },
  {
   "cell_type": "code",
   "execution_count": null,
   "id": "985fc3a1-a8cb-4868-9053-5af1c641af10",
   "metadata": {},
   "outputs": [],
   "source": [
    "sensor_info = {\"sensor_id\":[], \"param_display_name\":[], \"param_name\":[], \"units\":[]}\n",
    "for sensor in locations[\"results\"][0][\"sensors\"]:\n",
    "    sensor_info[\"sensor_id\"].append(sensor[\"id\"])\n",
    "    sensor_info[\"param_display_name\"].append(sensor[\"parameter\"][\"displayName\"])\n",
    "    sensor_info[\"param_name\"].append(sensor[\"parameter\"][\"name\"])\n",
    "    sensor_info[\"units\"].append(sensor[\"parameter\"][\"units\"])\n",
    "df_sensor_info = pd.DataFrame(sensor_info)\n",
    "df_sensor_info"
   ]
  },
  {
   "cell_type": "markdown",
   "id": "9da7f4ef-7a3d-431e-96d1-8c6a4c3becb4",
   "metadata": {},
   "source": [
    "# Earthquake data"
   ]
  },
  {
   "cell_type": "markdown",
   "id": "47fd89f0-a851-450a-b833-a00c5c175058",
   "metadata": {},
   "source": [
    "Parameters according the API documentation:"
   ]
  },
  {
   "cell_type": "code",
   "execution_count": null,
   "id": "8572ee65-725d-414a-b8cc-ea9f573261b5",
   "metadata": {},
   "outputs": [],
   "source": [
    "# URL\n",
    "url = r\"https://earthquake.usgs.gov/fdsnws/event/1/\""
   ]
  },
  {
   "cell_type": "code",
   "execution_count": null,
   "id": "dbb3559c-62e4-49cc-9535-9bb9bf599b52",
   "metadata": {},
   "outputs": [],
   "source": [
    "# According to the API documentation all times use UTC\n",
    "# Time in Germany should be specified when making a request\n",
    "berlin = ZoneInfo(\"Europe/Berlin\")\n",
    "tokyo = ZoneInfo(\"Asia/Tokyo\")\n",
    "now = datetime.now(tokyo).replace(microsecond=0)\n",
    "yesterday = now - timedelta(days=5)"
   ]
  },
  {
   "cell_type": "code",
   "execution_count": null,
   "id": "c710a99c-7462-4a30-a117-77b4f6997b79",
   "metadata": {},
   "outputs": [],
   "source": [
    "# Query parameters\n",
    "params = {\"method\" : \"query\", # submit a data request\n",
    "          \"format\" : \"geojson\", # reponse format\n",
    "          \"minlatitude\" : 24.0, # Get earthquakes in Japan\n",
    "          \"maxlatitude\" : 46.0,\n",
    "          \"minlongitude\" : 122.0,\n",
    "          \"maxlongitude\" : 146,\n",
    "          \"limit\" : 100, # Limit results to this value\n",
    "          \"starttime\": yesterday.isoformat(), # the API expect ISO time format, here it is set\n",
    "          \"endtime\" : now.isoformat(),\n",
    "          \"orderby\" : \"time\"} # sort the results from most recent to oldest"
   ]
  },
  {
   "cell_type": "code",
   "execution_count": null,
   "id": "5a871ed3-d0ce-4c7a-bafc-49798c7ea466",
   "metadata": {},
   "outputs": [],
   "source": [
    "m = folium.Map(location=[40,140], zoom_start=5)\n",
    "m"
   ]
  },
  {
   "cell_type": "code",
   "execution_count": null,
   "id": "eee58d06-cfe6-4f90-9d4a-49ba7121c258",
   "metadata": {},
   "outputs": [],
   "source": [
    "# get the data from the API\n",
    "response = requests.get(url, params=params)\n",
    "earthquakes = response.json()"
   ]
  },
  {
   "cell_type": "code",
   "execution_count": null,
   "id": "84f6d712-aad6-48e8-91b2-551155a89977",
   "metadata": {},
   "outputs": [],
   "source": [
    "# Use the same names of the reponse in the dict for easier iteration\n",
    "records = {\"time\":[], # time when the event ocurred - in milliseconds since the epoch\n",
    "           \"mag\":[], # magnitude of the event - combine with magType for interpretation\n",
    "           \"magType\":[], # magnitude types are described in the API documentation - must be mapped to a name easier to understand\n",
    "           \"alert\":[],\n",
    "           \"tsunami\":[],\n",
    "           \"place\":[],\n",
    "           \"coordinates\":[]}"
   ]
  },
  {
   "cell_type": "code",
   "execution_count": null,
   "id": "f6c48de4-82f0-4c62-8897-ac7c77c6c02f",
   "metadata": {},
   "outputs": [],
   "source": [
    "for earthquake in earthquakes[\"features\"]:\n",
    "    for feature in records:\n",
    "        if feature in earthquake[\"properties\"]:\n",
    "            records[feature].append(earthquake[\"properties\"][feature])\n",
    "        else:\n",
    "            records[feature].append(earthquake[\"geometry\"][feature])"
   ]
  },
  {
   "cell_type": "code",
   "execution_count": null,
   "id": "8d009e0d-d3a8-4f50-8d60-306a42ad3345",
   "metadata": {},
   "outputs": [],
   "source": [
    "mag_type_description = {\n",
    "    \"Mw\": \"Moment Magnitude\",\n",
    "    \"Ms\": \"Surface Wave Magnitude\",\n",
    "    \"Mb\": \"Body Wave Magnitude\",\n",
    "    \"ML\": \"Local (Richter) Magnitude\",\n",
    "    \"mB\": \"Broad-band Body Wave Magnitude\",\n",
    "    \"Mb_Lg\": \"Lg-Wave Magnitude\",\n",
    "    \"MD\": \"Duration Magnitude\",\n",
    "    \"MH\": \"Hand-calculated Magnitude\",\n",
    "    \"MI\": \"Intensity-derived Magnitude\",\n",
    "    \"Me\": \"Energy Magnitude\",\n",
    "    \"Mg\": \"Surface Wave from Ground Displacement\",\n",
    "    \"MWb\": \"Moment Magnitude from Body Waves\",\n",
    "    \"Mwr\": \"Regional Moment Magnitude\",\n",
    "    \"MwC\": \"Centroid Moment Magnitude\",\n",
    "    \"MwB\": \"Body-wave Derived Moment Magnitude\",\n",
    "    \"mww\": \"Moment Magnitude from W-phase\"\n",
    "}\n"
   ]
  },
  {
   "cell_type": "code",
   "execution_count": null,
   "id": "5606fe59-2431-47ef-8991-6c6692c0d5ab",
   "metadata": {},
   "outputs": [],
   "source": [
    "#TODO: set alert to black in case no alert\n",
    "df = pd.DataFrame(records)\n",
    "df[\"geometry\"] = df.coordinates.apply(lambda coord: Point(coord[:2]))\n",
    "df[\"depth\"] = df.coordinates.apply(lambda coord: coord[-1])\n",
    "df = df.drop(\"coordinates\", axis=1)\n",
    "df = df.rename(columns={\"time\":\"timestamp\", \"mag\":\"magnitude\", \"magType\":\"scale\"})\n",
    "df = df.replace(mag_type_description)\n",
    "df[\"timestamp\"] = pd.to_datetime(df[\"timestamp\"], unit=\"ms\")"
   ]
  },
  {
   "cell_type": "code",
   "execution_count": null,
   "id": "2de07189-b180-43b4-b020-06f3ff028dbb",
   "metadata": {},
   "outputs": [],
   "source": [
    "df"
   ]
  },
  {
   "cell_type": "code",
   "execution_count": null,
   "id": "0168ff89-3a51-4fad-bce1-9baf3459de1e",
   "metadata": {},
   "outputs": [],
   "source": [
    "geodf = gpd.GeoDataFrame(df, geometry=\"geometry\", crs=\"EPSG:4326\")\n",
    "geodf"
   ]
  },
  {
   "cell_type": "code",
   "execution_count": null,
   "id": "f7bc5ae8-b077-4364-9d24-59a7c8ec4da7",
   "metadata": {},
   "outputs": [],
   "source": [
    "geodf.explore()"
   ]
  }
 ],
 "metadata": {
  "kernelspec": {
   "display_name": "Python 3 (ipykernel)",
   "language": "python",
   "name": "python3"
  },
  "language_info": {
   "codemirror_mode": {
    "name": "ipython",
    "version": 3
   },
   "file_extension": ".py",
   "mimetype": "text/x-python",
   "name": "python",
   "nbconvert_exporter": "python",
   "pygments_lexer": "ipython3",
   "version": "3.12.11"
  }
 },
 "nbformat": 4,
 "nbformat_minor": 5
}
